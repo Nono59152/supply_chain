{
 "cells": [
  {
   "cell_type": "code",
   "execution_count": 4,
   "id": "f2d208da-a04e-4917-bc69-4df4abb352bf",
   "metadata": {
    "tags": []
   },
   "outputs": [],
   "source": [
    "import pandas as pd\n",
    "\n",
    "#création de 4 df\n",
    "df_amazon=pd.read_csv('amazon_cleaned_reviews.csv')\n",
    "df_cdiscount=pd.read_csv('cdiscount_cleaned_reviews.csv')\n",
    "df_rakuten=pd.read_csv('rakuten_cleaned_reviews.csv')\n",
    "df_rdc=pd.read_csv('rdc_cleaned_reviews.csv')\n",
    "\n",
    "\n"
   ]
  },
  {
   "cell_type": "code",
   "execution_count": 6,
   "id": "49377a94-63d5-48de-9030-e4e203da2587",
   "metadata": {
    "tags": []
   },
   "outputs": [],
   "source": [
    "# garder les lignes sans NA pour dataframe rdc\n",
    "df_rdc = df_rdc[df_rdc[\"date\"].notna()]"
   ]
  },
  {
   "cell_type": "code",
   "execution_count": 10,
   "id": "9eb03cb4-9f23-4eff-9ede-ccfdabf0a2ef",
   "metadata": {
    "tags": []
   },
   "outputs": [],
   "source": [
    "def fill_list(n, str_value):\n",
    "    return [str_value]*n"
   ]
  },
  {
   "cell_type": "code",
   "execution_count": 14,
   "id": "eb3aff9e-e2cf-4ac3-ab39-ceea8a6209f5",
   "metadata": {
    "tags": []
   },
   "outputs": [],
   "source": [
    "df_amazon[\"plate_forme\"] = fill_list(len(df_amazon), \"AMAZON\")\n",
    "df_cdiscount[\"plate_forme\"] = fill_list(len(df_cdiscount), \"CDISCOUNT\")\n",
    "df_rakuten[\"plate_forme\"] = fill_list(len(df_rakuten), \"RAKUTEN\")\n",
    "df_rdc[\"plate_forme\"] = fill_list(len(df_rdc), \"RDC\")"
   ]
  },
  {
   "cell_type": "code",
   "execution_count": 34,
   "id": "fa1ea0f6-d5fd-480b-9637-0cf154fca0a2",
   "metadata": {
    "scrolled": true,
    "tags": []
   },
   "outputs": [],
   "source": [
    "df = pd.DataFrame()\n",
    "df = pd.concat([df_amazon, df_cdiscount, df_rakuten, df_rdc], axis=0)"
   ]
  },
  {
   "cell_type": "code",
   "execution_count": 36,
   "id": "4d2c2c74-0797-41b1-aca5-a9bb64525cfd",
   "metadata": {
    "tags": []
   },
   "outputs": [
    {
     "data": {
      "text/html": [
       "<div>\n",
       "<style scoped>\n",
       "    .dataframe tbody tr th:only-of-type {\n",
       "        vertical-align: middle;\n",
       "    }\n",
       "\n",
       "    .dataframe tbody tr th {\n",
       "        vertical-align: top;\n",
       "    }\n",
       "\n",
       "    .dataframe thead th {\n",
       "        text-align: right;\n",
       "    }\n",
       "</style>\n",
       "<table border=\"1\" class=\"dataframe\">\n",
       "  <thead>\n",
       "    <tr style=\"text-align: right;\">\n",
       "      <th></th>\n",
       "      <th>title</th>\n",
       "      <th>rating</th>\n",
       "      <th>date</th>\n",
       "      <th>body</th>\n",
       "      <th>sentiment</th>\n",
       "      <th>category</th>\n",
       "      <th>month_year</th>\n",
       "      <th>satisfied</th>\n",
       "      <th>plate_forme</th>\n",
       "    </tr>\n",
       "  </thead>\n",
       "  <tbody>\n",
       "    <tr>\n",
       "      <th>0</th>\n",
       "      <td>Exploitation car blocage de remboursement</td>\n",
       "      <td>1</td>\n",
       "      <td>2024-06-28 00:00:00</td>\n",
       "      <td>entre les colis jetés n'importe où, et l'argen...</td>\n",
       "      <td>Negative</td>\n",
       "      <td>Shipping</td>\n",
       "      <td>2024-06</td>\n",
       "      <td>0</td>\n",
       "      <td>AMAZON</td>\n",
       "    </tr>\n",
       "    <tr>\n",
       "      <th>1</th>\n",
       "      <td>J'ai commandé une imprimante par…</td>\n",
       "      <td>1</td>\n",
       "      <td>2024-06-29 00:00:00</td>\n",
       "      <td>J'ai commandé une imprimante par Amazon: Je n'...</td>\n",
       "      <td>Neutral</td>\n",
       "      <td>Electronics</td>\n",
       "      <td>2024-06</td>\n",
       "      <td>0</td>\n",
       "      <td>AMAZON</td>\n",
       "    </tr>\n",
       "    <tr>\n",
       "      <th>2</th>\n",
       "      <td>Colis Privé, société pas sérieuse</td>\n",
       "      <td>1</td>\n",
       "      <td>2024-06-26 00:00:00</td>\n",
       "      <td>La société Colis Privé n'est pas sérieuse, cel...</td>\n",
       "      <td>Negative</td>\n",
       "      <td>Shipping</td>\n",
       "      <td>2024-06</td>\n",
       "      <td>0</td>\n",
       "      <td>AMAZON</td>\n",
       "    </tr>\n",
       "    <tr>\n",
       "      <th>3</th>\n",
       "      <td>Que se passe-t’il chez Amazon ???</td>\n",
       "      <td>1</td>\n",
       "      <td>2024-06-14 00:00:00</td>\n",
       "      <td>Que se passe-t’il chez Amazon ???\\nJ’ai comman...</td>\n",
       "      <td>Neutral</td>\n",
       "      <td>Marketplace</td>\n",
       "      <td>2024-06</td>\n",
       "      <td>0</td>\n",
       "      <td>AMAZON</td>\n",
       "    </tr>\n",
       "    <tr>\n",
       "      <th>4</th>\n",
       "      <td>Attention!!!!</td>\n",
       "      <td>1</td>\n",
       "      <td>2024-06-28 00:00:00</td>\n",
       "      <td>Attention! Commande passée pour le portugal… d...</td>\n",
       "      <td>Neutral</td>\n",
       "      <td>Customer Service</td>\n",
       "      <td>2024-06</td>\n",
       "      <td>0</td>\n",
       "      <td>AMAZON</td>\n",
       "    </tr>\n",
       "  </tbody>\n",
       "</table>\n",
       "</div>"
      ],
      "text/plain": [
       "                                       title  rating                 date  \\\n",
       "0  Exploitation car blocage de remboursement       1  2024-06-28 00:00:00   \n",
       "1          J'ai commandé une imprimante par…       1  2024-06-29 00:00:00   \n",
       "2         Colis Privé, société pas sérieuse        1  2024-06-26 00:00:00   \n",
       "3          Que se passe-t’il chez Amazon ???       1  2024-06-14 00:00:00   \n",
       "4                              Attention!!!!       1  2024-06-28 00:00:00   \n",
       "\n",
       "                                                body sentiment  \\\n",
       "0  entre les colis jetés n'importe où, et l'argen...  Negative   \n",
       "1  J'ai commandé une imprimante par Amazon: Je n'...   Neutral   \n",
       "2  La société Colis Privé n'est pas sérieuse, cel...  Negative   \n",
       "3  Que se passe-t’il chez Amazon ???\\nJ’ai comman...   Neutral   \n",
       "4  Attention! Commande passée pour le portugal… d...   Neutral   \n",
       "\n",
       "           category month_year  satisfied plate_forme  \n",
       "0          Shipping    2024-06          0      AMAZON  \n",
       "1       Electronics    2024-06          0      AMAZON  \n",
       "2          Shipping    2024-06          0      AMAZON  \n",
       "3       Marketplace    2024-06          0      AMAZON  \n",
       "4  Customer Service    2024-06          0      AMAZON  "
      ]
     },
     "execution_count": 36,
     "metadata": {},
     "output_type": "execute_result"
    }
   ],
   "source": [
    "df.head()"
   ]
  },
  {
   "cell_type": "code",
   "execution_count": 38,
   "id": "e17b26ae-d4de-4a4b-8ba4-2aa2b3a1ef71",
   "metadata": {
    "tags": []
   },
   "outputs": [
    {
     "data": {
      "text/html": [
       "<div>\n",
       "<style scoped>\n",
       "    .dataframe tbody tr th:only-of-type {\n",
       "        vertical-align: middle;\n",
       "    }\n",
       "\n",
       "    .dataframe tbody tr th {\n",
       "        vertical-align: top;\n",
       "    }\n",
       "\n",
       "    .dataframe thead th {\n",
       "        text-align: right;\n",
       "    }\n",
       "</style>\n",
       "<table border=\"1\" class=\"dataframe\">\n",
       "  <thead>\n",
       "    <tr style=\"text-align: right;\">\n",
       "      <th></th>\n",
       "      <th>plate_forme</th>\n",
       "      <th>title</th>\n",
       "      <th>rating</th>\n",
       "      <th>date</th>\n",
       "      <th>body</th>\n",
       "      <th>sentiment</th>\n",
       "      <th>category</th>\n",
       "      <th>month_year</th>\n",
       "      <th>satisfied</th>\n",
       "    </tr>\n",
       "  </thead>\n",
       "  <tbody>\n",
       "    <tr>\n",
       "      <th>0</th>\n",
       "      <td>AMAZON</td>\n",
       "      <td>Exploitation car blocage de remboursement</td>\n",
       "      <td>1</td>\n",
       "      <td>2024-06-28 00:00:00</td>\n",
       "      <td>entre les colis jetés n'importe où, et l'argen...</td>\n",
       "      <td>Negative</td>\n",
       "      <td>Shipping</td>\n",
       "      <td>2024-06</td>\n",
       "      <td>0</td>\n",
       "    </tr>\n",
       "    <tr>\n",
       "      <th>1</th>\n",
       "      <td>AMAZON</td>\n",
       "      <td>J'ai commandé une imprimante par…</td>\n",
       "      <td>1</td>\n",
       "      <td>2024-06-29 00:00:00</td>\n",
       "      <td>J'ai commandé une imprimante par Amazon: Je n'...</td>\n",
       "      <td>Neutral</td>\n",
       "      <td>Electronics</td>\n",
       "      <td>2024-06</td>\n",
       "      <td>0</td>\n",
       "    </tr>\n",
       "    <tr>\n",
       "      <th>2</th>\n",
       "      <td>AMAZON</td>\n",
       "      <td>Colis Privé, société pas sérieuse</td>\n",
       "      <td>1</td>\n",
       "      <td>2024-06-26 00:00:00</td>\n",
       "      <td>La société Colis Privé n'est pas sérieuse, cel...</td>\n",
       "      <td>Negative</td>\n",
       "      <td>Shipping</td>\n",
       "      <td>2024-06</td>\n",
       "      <td>0</td>\n",
       "    </tr>\n",
       "    <tr>\n",
       "      <th>3</th>\n",
       "      <td>AMAZON</td>\n",
       "      <td>Que se passe-t’il chez Amazon ???</td>\n",
       "      <td>1</td>\n",
       "      <td>2024-06-14 00:00:00</td>\n",
       "      <td>Que se passe-t’il chez Amazon ???\\nJ’ai comman...</td>\n",
       "      <td>Neutral</td>\n",
       "      <td>Marketplace</td>\n",
       "      <td>2024-06</td>\n",
       "      <td>0</td>\n",
       "    </tr>\n",
       "    <tr>\n",
       "      <th>4</th>\n",
       "      <td>AMAZON</td>\n",
       "      <td>Attention!!!!</td>\n",
       "      <td>1</td>\n",
       "      <td>2024-06-28 00:00:00</td>\n",
       "      <td>Attention! Commande passée pour le portugal… d...</td>\n",
       "      <td>Neutral</td>\n",
       "      <td>Customer Service</td>\n",
       "      <td>2024-06</td>\n",
       "      <td>0</td>\n",
       "    </tr>\n",
       "    <tr>\n",
       "      <th>...</th>\n",
       "      <td>...</td>\n",
       "      <td>...</td>\n",
       "      <td>...</td>\n",
       "      <td>...</td>\n",
       "      <td>...</td>\n",
       "      <td>...</td>\n",
       "      <td>...</td>\n",
       "      <td>...</td>\n",
       "      <td>...</td>\n",
       "    </tr>\n",
       "    <tr>\n",
       "      <th>3191</th>\n",
       "      <td>RDC</td>\n",
       "      <td>je mets 1 étoile car il n'est possible…</td>\n",
       "      <td>1</td>\n",
       "      <td>2018-06-19 00:00:00</td>\n",
       "      <td>je mets 1 étoile car il n'est possible d'en me...</td>\n",
       "      <td>Negative</td>\n",
       "      <td>Electronics</td>\n",
       "      <td>2018-06</td>\n",
       "      <td>0</td>\n",
       "    </tr>\n",
       "    <tr>\n",
       "      <th>3192</th>\n",
       "      <td>RDC</td>\n",
       "      <td>Site moyen, Service Qualité bon</td>\n",
       "      <td>2</td>\n",
       "      <td>2018-06-18 19:45:45</td>\n",
       "      <td>J'ai commandé le 24 mai, deux casques Philips ...</td>\n",
       "      <td>Neutral</td>\n",
       "      <td>Electronics</td>\n",
       "      <td>2018-06</td>\n",
       "      <td>0</td>\n",
       "    </tr>\n",
       "    <tr>\n",
       "      <th>3193</th>\n",
       "      <td>RDC</td>\n",
       "      <td>voleurs!!!</td>\n",
       "      <td>1</td>\n",
       "      <td>2018-06-18 11:08:26</td>\n",
       "      <td>bonjour, voila, j'ai effectué un achat d'une p...</td>\n",
       "      <td>Negative</td>\n",
       "      <td>Customer Service</td>\n",
       "      <td>2018-06</td>\n",
       "      <td>0</td>\n",
       "    </tr>\n",
       "    <tr>\n",
       "      <th>3194</th>\n",
       "      <td>RDC</td>\n",
       "      <td>Nickel</td>\n",
       "      <td>5</td>\n",
       "      <td>2018-06-18 09:09:01</td>\n",
       "      <td>Nickel, produit conforme, délai correct</td>\n",
       "      <td>Positive</td>\n",
       "      <td>Shipping</td>\n",
       "      <td>2018-06</td>\n",
       "      <td>1</td>\n",
       "    </tr>\n",
       "    <tr>\n",
       "      <th>3195</th>\n",
       "      <td>RDC</td>\n",
       "      <td>Telephone samsung galaxy s6 commander…</td>\n",
       "      <td>3</td>\n",
       "      <td>2018-06-17 12:49:44</td>\n",
       "      <td>Telephone samsung galaxy s6 commander le 2 jui...</td>\n",
       "      <td>Neutral</td>\n",
       "      <td>Electronics</td>\n",
       "      <td>2018-06</td>\n",
       "      <td>0</td>\n",
       "    </tr>\n",
       "  </tbody>\n",
       "</table>\n",
       "<p>12669 rows × 9 columns</p>\n",
       "</div>"
      ],
      "text/plain": [
       "     plate_forme                                      title  rating  \\\n",
       "0         AMAZON  Exploitation car blocage de remboursement       1   \n",
       "1         AMAZON          J'ai commandé une imprimante par…       1   \n",
       "2         AMAZON         Colis Privé, société pas sérieuse        1   \n",
       "3         AMAZON          Que se passe-t’il chez Amazon ???       1   \n",
       "4         AMAZON                              Attention!!!!       1   \n",
       "...          ...                                        ...     ...   \n",
       "3191         RDC    je mets 1 étoile car il n'est possible…       1   \n",
       "3192         RDC            Site moyen, Service Qualité bon       2   \n",
       "3193         RDC                                 voleurs!!!       1   \n",
       "3194         RDC                                     Nickel       5   \n",
       "3195         RDC     Telephone samsung galaxy s6 commander…       3   \n",
       "\n",
       "                     date                                               body  \\\n",
       "0     2024-06-28 00:00:00  entre les colis jetés n'importe où, et l'argen...   \n",
       "1     2024-06-29 00:00:00  J'ai commandé une imprimante par Amazon: Je n'...   \n",
       "2     2024-06-26 00:00:00  La société Colis Privé n'est pas sérieuse, cel...   \n",
       "3     2024-06-14 00:00:00  Que se passe-t’il chez Amazon ???\\nJ’ai comman...   \n",
       "4     2024-06-28 00:00:00  Attention! Commande passée pour le portugal… d...   \n",
       "...                   ...                                                ...   \n",
       "3191  2018-06-19 00:00:00  je mets 1 étoile car il n'est possible d'en me...   \n",
       "3192  2018-06-18 19:45:45  J'ai commandé le 24 mai, deux casques Philips ...   \n",
       "3193  2018-06-18 11:08:26  bonjour, voila, j'ai effectué un achat d'une p...   \n",
       "3194  2018-06-18 09:09:01            Nickel, produit conforme, délai correct   \n",
       "3195  2018-06-17 12:49:44  Telephone samsung galaxy s6 commander le 2 jui...   \n",
       "\n",
       "     sentiment          category month_year  satisfied  \n",
       "0     Negative          Shipping    2024-06          0  \n",
       "1      Neutral       Electronics    2024-06          0  \n",
       "2     Negative          Shipping    2024-06          0  \n",
       "3      Neutral       Marketplace    2024-06          0  \n",
       "4      Neutral  Customer Service    2024-06          0  \n",
       "...        ...               ...        ...        ...  \n",
       "3191  Negative       Electronics    2018-06          0  \n",
       "3192   Neutral       Electronics    2018-06          0  \n",
       "3193  Negative  Customer Service    2018-06          0  \n",
       "3194  Positive          Shipping    2018-06          1  \n",
       "3195   Neutral       Electronics    2018-06          0  \n",
       "\n",
       "[12669 rows x 9 columns]"
      ]
     },
     "execution_count": 38,
     "metadata": {},
     "output_type": "execute_result"
    }
   ],
   "source": [
    "df.reindex(columns = ['plate_forme', 'title', 'rating','date','body','sentiment','category','month_year','satisfied'])"
   ]
  },
  {
   "cell_type": "code",
   "execution_count": 84,
   "id": "60feae90-811d-4183-ae67-ca9271331d09",
   "metadata": {
    "tags": []
   },
   "outputs": [],
   "source": [
    "#création du fichier csv global\n",
    "df.to_csv('data_supply_chain.csv', index=False)"
   ]
  },
  {
   "cell_type": "code",
   "execution_count": 42,
   "id": "8695ea4c-cb8d-4aeb-b603-9e31caa230c6",
   "metadata": {
    "tags": []
   },
   "outputs": [],
   "source": [
    "df_test_csv=pd.read_csv('data_supply_chain.csv')"
   ]
  },
  {
   "cell_type": "code",
   "execution_count": 44,
   "id": "ab916dce-66a6-497f-b0b8-d54c44c52d8f",
   "metadata": {
    "tags": []
   },
   "outputs": [
    {
     "data": {
      "text/plain": [
       "(12669, 9)"
      ]
     },
     "execution_count": 44,
     "metadata": {},
     "output_type": "execute_result"
    }
   ],
   "source": [
    "df_test_csv.shape"
   ]
  },
  {
   "cell_type": "code",
   "execution_count": 46,
   "id": "4fd9885b-c27b-44cc-8b8e-6ed21c4e5946",
   "metadata": {
    "tags": []
   },
   "outputs": [],
   "source": [
    "#séparation en 2 df avec 1 df lignes ok et 1 df lignes sentiment + et rating <=2\n",
    "df_filtre_ko=df.loc[(df['sentiment']=='Positive') & (df['rating']<=2)]"
   ]
  },
  {
   "cell_type": "code",
   "execution_count": 72,
   "id": "ec1d5420-f369-4cd3-a35a-78bb17ac3a21",
   "metadata": {
    "tags": []
   },
   "outputs": [
    {
     "data": {
      "text/plain": [
       "(917, 9)"
      ]
     },
     "execution_count": 72,
     "metadata": {},
     "output_type": "execute_result"
    }
   ],
   "source": [
    "df_filtre_ko.shape\n",
    "#917 lignes ko"
   ]
  },
  {
   "cell_type": "code",
   "execution_count": 54,
   "id": "c3b8b82d-3496-40c1-a6cb-e9b7404be4e1",
   "metadata": {
    "tags": []
   },
   "outputs": [],
   "source": [
    "df_filtre_ok=df.loc[(df['sentiment']!='Positive') | (df['rating']>2)]"
   ]
  },
  {
   "cell_type": "code",
   "execution_count": 64,
   "id": "1ff1dcb5-f270-4582-9106-e95d7675429e",
   "metadata": {
    "tags": []
   },
   "outputs": [
    {
     "data": {
      "text/plain": [
       "(11752, 9)"
      ]
     },
     "execution_count": 64,
     "metadata": {},
     "output_type": "execute_result"
    }
   ],
   "source": [
    "df_filtre_ok.shape"
   ]
  },
  {
   "cell_type": "code",
   "execution_count": 68,
   "id": "7adce5f7-8273-426c-8491-b1a3079c00ea",
   "metadata": {
    "tags": []
   },
   "outputs": [
    {
     "name": "stderr",
     "output_type": "stream",
     "text": [
      "C:\\Users\\user\\AppData\\Local\\Temp\\ipykernel_10572\\2038110268.py:2: SettingWithCopyWarning: \n",
      "A value is trying to be set on a copy of a slice from a DataFrame.\n",
      "Try using .loc[row_indexer,col_indexer] = value instead\n",
      "\n",
      "See the caveats in the documentation: https://pandas.pydata.org/pandas-docs/stable/user_guide/indexing.html#returning-a-view-versus-a-copy\n",
      "  df_filtre_ko['sentiment'] = fill_list(len(df_filtre_ko), 'Negative')\n"
     ]
    }
   ],
   "source": [
    "#on positionne le sentiment à 'Negative' pour toutes les lignes\n",
    "df_filtre_ko['sentiment'] = fill_list(len(df_filtre_ko), 'Negative')"
   ]
  },
  {
   "cell_type": "code",
   "execution_count": 70,
   "id": "b6ae8e25-5172-462d-b300-73a5a4e900ab",
   "metadata": {
    "tags": []
   },
   "outputs": [
    {
     "data": {
      "text/plain": [
       "sentiment\n",
       "Negative    917\n",
       "Name: count, dtype: int64"
      ]
     },
     "execution_count": 70,
     "metadata": {},
     "output_type": "execute_result"
    }
   ],
   "source": [
    "df_filtre_ko['sentiment'].value_counts()"
   ]
  },
  {
   "cell_type": "code",
   "execution_count": 74,
   "id": "599f2c08-032d-4f0c-850a-fc3fb9fadac4",
   "metadata": {
    "tags": []
   },
   "outputs": [],
   "source": [
    "#concaténation df_filtre_ok et df_filtre_ko\n",
    "df_w_sentiment = pd.concat([df_filtre_ok, df_filtre_ko], axis=0)"
   ]
  },
  {
   "cell_type": "code",
   "execution_count": 76,
   "id": "027a4e5d-3292-4d02-a90b-ea2245ab3c98",
   "metadata": {
    "tags": []
   },
   "outputs": [
    {
     "data": {
      "text/plain": [
       "(12669, 9)"
      ]
     },
     "execution_count": 76,
     "metadata": {},
     "output_type": "execute_result"
    }
   ],
   "source": [
    "df_w_sentiment.shape"
   ]
  },
  {
   "cell_type": "code",
   "execution_count": 78,
   "id": "6c9d116f-9b4b-47c9-9858-ecd9ce155337",
   "metadata": {
    "tags": []
   },
   "outputs": [
    {
     "data": {
      "text/plain": [
       "sentiment\n",
       "Positive    5892\n",
       "Neutral     4673\n",
       "Negative    2104\n",
       "Name: count, dtype: int64"
      ]
     },
     "execution_count": 78,
     "metadata": {},
     "output_type": "execute_result"
    }
   ],
   "source": [
    "df_w_sentiment['sentiment'].value_counts()"
   ]
  },
  {
   "cell_type": "code",
   "execution_count": 80,
   "id": "23616b10-a61e-4411-9f4e-13d33844f634",
   "metadata": {
    "tags": []
   },
   "outputs": [
    {
     "data": {
      "text/plain": [
       "sentiment\n",
       "Positive    6809\n",
       "Neutral     4673\n",
       "Negative    1187\n",
       "Name: count, dtype: int64"
      ]
     },
     "execution_count": 80,
     "metadata": {},
     "output_type": "execute_result"
    }
   ],
   "source": [
    "df['sentiment'].value_counts()"
   ]
  },
  {
   "cell_type": "code",
   "execution_count": 86,
   "id": "f2673159-6124-4c0b-86a6-34fe8308c03b",
   "metadata": {
    "tags": []
   },
   "outputs": [],
   "source": [
    "#création du fichier csv global avec retravail du sentiment\n",
    "df_w_sentiment.to_csv('data_supply_chain_w_sentiment.csv', index=False)"
   ]
  },
  {
   "cell_type": "code",
   "execution_count": 88,
   "id": "b935c2c1-ef0c-4256-8af9-c996bd2d2cfb",
   "metadata": {
    "tags": []
   },
   "outputs": [],
   "source": [
    "df_test_csv=pd.read_csv('data_supply_chain.csv')\n",
    "df_test_csv_w=pd.read_csv('data_supply_chain_w_sentiment.csv')"
   ]
  },
  {
   "cell_type": "code",
   "execution_count": 90,
   "id": "699f021a-a793-45a4-bb14-350fdc81791d",
   "metadata": {
    "tags": []
   },
   "outputs": [
    {
     "data": {
      "text/plain": [
       "sentiment\n",
       "Positive    5892\n",
       "Neutral     4673\n",
       "Negative    2104\n",
       "Name: count, dtype: int64"
      ]
     },
     "execution_count": 90,
     "metadata": {},
     "output_type": "execute_result"
    }
   ],
   "source": [
    "df_test_csv_w['sentiment'].value_counts()"
   ]
  },
  {
   "cell_type": "code",
   "execution_count": 92,
   "id": "cc1a9e0c-07db-496e-9eb2-7a9111748a6d",
   "metadata": {
    "tags": []
   },
   "outputs": [
    {
     "data": {
      "text/plain": [
       "sentiment\n",
       "Positive    6809\n",
       "Neutral     4673\n",
       "Negative    1187\n",
       "Name: count, dtype: int64"
      ]
     },
     "execution_count": 92,
     "metadata": {},
     "output_type": "execute_result"
    }
   ],
   "source": [
    "df_test_csv['sentiment'].value_counts()"
   ]
  }
 ],
 "metadata": {
  "kernelspec": {
   "display_name": "Python 3 (ipykernel)",
   "language": "python",
   "name": "python3"
  },
  "language_info": {
   "codemirror_mode": {
    "name": "ipython",
    "version": 3
   },
   "file_extension": ".py",
   "mimetype": "text/x-python",
   "name": "python",
   "nbconvert_exporter": "python",
   "pygments_lexer": "ipython3",
   "version": "3.11.7"
  }
 },
 "nbformat": 4,
 "nbformat_minor": 5
}
